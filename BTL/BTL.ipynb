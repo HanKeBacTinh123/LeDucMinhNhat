{
 "cells": [
  {
   "cell_type": "markdown",
   "source": [
    "# Predicting the outcome soccer matches using Machine Learning"
   ],
   "metadata": {
    "collapsed": false
   },
   "id": "e3a78525ed8107a"
  },
  {
   "cell_type": "markdown",
   "source": [
    "## Đinh Bá Duy - 2010179\n",
    "## Lê Đức Minh Nhật - 2013994"
   ],
   "metadata": {
    "collapsed": false
   },
   "id": "34710eba573c28d7"
  },
  {
   "cell_type": "markdown",
   "source": [
    "## Các thư viện sử dụng"
   ],
   "metadata": {
    "collapsed": false
   },
   "id": "5aa5095822b12a36"
  },
  {
   "cell_type": "markdown",
   "source": [
    "Import các thư viện hỗ trợ trong chương trình, cũng như các mô hình máy học"
   ],
   "metadata": {
    "collapsed": false
   },
   "id": "f6b55c1bba81f967"
  },
  {
   "cell_type": "code",
   "execution_count": 27,
   "id": "initial_id",
   "metadata": {
    "collapsed": true,
    "ExecuteTime": {
     "end_time": "2024-04-15T08:28:01.246413200Z",
     "start_time": "2024-04-15T08:28:01.036516400Z"
    }
   },
   "outputs": [],
   "source": [
    "from time import time\n",
    "import numpy as np\n",
    "import pandas as pd\n",
    "import sqlite3\n",
    "import warnings\n",
    "\n",
    "warnings.filterwarnings(\"ignore\")\n",
    "\n",
    "from sklearn.naive_bayes import GaussianNB\n",
    "from sklearn.neighbors import KNeighborsClassifier\n",
    "from sklearn.tree import DecisionTreeClassifier\n",
    "from sklearn.svm import SVC\n",
    "from xgboost import XGBClassifier\n",
    "from sklearn.ensemble import RandomForestClassifier\n",
    "\n",
    "from sklearn.preprocessing import Normalizer\n",
    "from sklearn.model_selection import KFold"
   ]
  },
  {
   "cell_type": "markdown",
   "source": [
    "# Tiến hành huấn luyện"
   ],
   "metadata": {
    "collapsed": false
   },
   "id": "32b7bde6090b957d"
  },
  {
   "cell_type": "markdown",
   "source": [
    "## Phân tích dữ liệu"
   ],
   "metadata": {
    "collapsed": false
   },
   "id": "b4cac7bb9d4564d7"
  },
  {
   "cell_type": "markdown",
   "source": [
    "### Trích xuất dữ liệu từ cơ sở dữ liệu"
   ],
   "metadata": {
    "collapsed": false
   },
   "id": "6a69354caedf814d"
  },
  {
   "cell_type": "code",
   "outputs": [],
   "source": [
    "with sqlite3.connect(\"dataset/database.sqlite\") as con:\n",
    "    matches = pd.read_sql_query(\"SELECT * from Match\", con)\n",
    "    team_attributes = pd.read_sql_query(\"SELECT distinct * from Team_Attributes\", con)\n",
    "    player = pd.read_sql_query(\"SELECT * from Player\", con)\n",
    "    player_attributes = pd.read_sql_query(\"SELECT * from Player_Attributes\", con)"
   ],
   "metadata": {
    "collapsed": false,
    "ExecuteTime": {
     "end_time": "2024-04-15T08:28:11.237762500Z",
     "start_time": "2024-04-15T08:28:01.241008100Z"
    }
   },
   "id": "5dbbfb995e41f22c",
   "execution_count": 28
  },
  {
   "cell_type": "markdown",
   "source": [
    "### Trích xuất dữ liệu từ Matches"
   ],
   "metadata": {
    "collapsed": false
   },
   "id": "33abe5655f194c7c"
  },
  {
   "cell_type": "code",
   "outputs": [],
   "source": [
    "''' Derives a label for a given match. '''\n",
    "def get_match_outcome(match):\n",
    "    # Define variables\n",
    "    home_goals = match['home_team_goal']\n",
    "    away_goals = match['away_team_goal']\n",
    "\n",
    "    outcome = pd.DataFrame()  # Create a new dataframe: outcome\n",
    "    outcome.loc[0, 'match_api_id'] = match['match_api_id']  # Insert match_api_id into outcome\n",
    "\n",
    "    # Identify match outcome\n",
    "    if home_goals > away_goals:\n",
    "        outcome.loc[0, 'outcome'] = \"Win\"\n",
    "    if home_goals == away_goals:\n",
    "        outcome.loc[0, 'outcome'] = \"Draw\"\n",
    "    if home_goals < away_goals:\n",
    "        outcome.loc[0, 'outcome'] = \"Defeat\"\n",
    "\n",
    "    # Return outcome\n",
    "    return outcome.loc[0]\n",
    "\n",
    "\n",
    "''' Get the last x matches of a given team. '''\n",
    "def get_last_matches(matches, date, team, x=10):\n",
    "    # Filter team matches from matches\n",
    "    team_matches = matches[(matches['home_team_api_id'] == team) | (matches['away_team_api_id'] == team)]\n",
    "\n",
    "    # Filter x last matches from team matches\n",
    "    last_matches = team_matches[team_matches.date < date].sort_values(by='date', ascending=False).iloc[0:x, :]\n",
    "\n",
    "    # Return last matches\n",
    "    return last_matches\n",
    "\n",
    "\n",
    "''' Get the last team stats of a given team. '''\n",
    "def get_last_team_stats(team_id, date, teams_stats):\n",
    "    # Filter team stats\n",
    "    all_team_stats = teams_stats[teams_stats['team_api_id'] == team_id]\n",
    "\n",
    "    # Filter last stats from team\n",
    "    last_team_stats = all_team_stats[all_team_stats.date < date].sort_values(by='date', ascending=False)\n",
    "    if last_team_stats.empty:\n",
    "        last_team_stats = all_team_stats[all_team_stats.date > date].sort_values(by='date', ascending=True)\n",
    "\n",
    "    # Return last matches\n",
    "    return last_team_stats.iloc[0:1, :]\n",
    "\n",
    "\n",
    "''' Get the last x matches of two given teams. '''\n",
    "def get_last_matches_against_eachother(matches, date, home_team, away_team, x=10):\n",
    "    # Find matches of both teams\n",
    "    home_matches = matches[(matches['home_team_api_id'] == home_team) & (matches['away_team_api_id'] == away_team)]\n",
    "    away_matches = matches[(matches['home_team_api_id'] == away_team) & (matches['away_team_api_id'] == home_team)]\n",
    "    total_matches = pd.concat([home_matches, away_matches])\n",
    "\n",
    "    # Get last x matches\n",
    "    try:\n",
    "        last_matches = total_matches[total_matches.date < date].sort_values(by='date', ascending=False).iloc[0:x, :]\n",
    "    except:\n",
    "        last_matches = total_matches[total_matches.date < date].sort_values(by='date', ascending=False).iloc[\n",
    "                       0:total_matches.shape[0], :]\n",
    "\n",
    "        # Check for error in data\n",
    "        if (last_matches.shape[0] > x):\n",
    "            print(\"Error in obtaining matches\")\n",
    "\n",
    "    # Return data\n",
    "    return last_matches\n",
    "\n",
    "\n",
    "''' Get the goals[home & away] of a specfic team from a set of matches. '''\n",
    "def get_goals(matches, team):\n",
    "    home_goals = int(matches.home_team_goal[matches.home_team_api_id == team].sum())\n",
    "    away_goals = int(matches.away_team_goal[matches.away_team_api_id == team].sum())\n",
    "\n",
    "    total_goals = home_goals + away_goals\n",
    "\n",
    "    return total_goals\n",
    "\n",
    "\n",
    "''' Get the goals[home & away] conceided of a specfic team from a set of matches. '''\n",
    "def get_goals_conceided(matches, team):\n",
    "    home_goals = int(matches.home_team_goal[matches.away_team_api_id == team].sum())\n",
    "    away_goals = int(matches.away_team_goal[matches.home_team_api_id == team].sum())\n",
    "\n",
    "    total_goals = home_goals + away_goals\n",
    "\n",
    "    return total_goals\n",
    "\n",
    "\n",
    "''' Get the number of wins of a specfic team from a set of matches. '''\n",
    "def get_wins(matches, team):\n",
    "    # Find home and away wins\n",
    "    home_wins = int(matches.home_team_goal[\n",
    "                        (matches.home_team_api_id == team) & (matches.home_team_goal > matches.away_team_goal)].count())\n",
    "    away_wins = int(matches.away_team_goal[\n",
    "                        (matches.away_team_api_id == team) & (matches.away_team_goal > matches.home_team_goal)].count())\n",
    "\n",
    "    total_wins = home_wins + away_wins\n",
    "\n",
    "    return total_wins\n",
    "\n",
    "\n",
    "''' Create match specific features for a given match. '''\n",
    "def get_match_features(match, matches, teams_stats, x=10):\n",
    "    # Define variables\n",
    "    date = match.date\n",
    "    home_team = match.home_team_api_id\n",
    "    away_team = match.away_team_api_id\n",
    "\n",
    "    # Gets home and away team_stats\n",
    "    home_team_stats = get_last_team_stats(home_team, date, teams_stats);\n",
    "    away_team_stats = get_last_team_stats(away_team, date, teams_stats);\n",
    "\n",
    "    # Get last x matches of home and away team\n",
    "    matches_home_team = get_last_matches(matches, date, home_team, x=5)\n",
    "    matches_away_team = get_last_matches(matches, date, away_team, x=5)\n",
    "\n",
    "    # Get last x matches of both teams against each other\n",
    "    last_matches_against = get_last_matches_against_eachother(matches, date, home_team, away_team, x=3)\n",
    "\n",
    "    # Create goal variables\n",
    "    home_goals = get_goals(matches_home_team, home_team)\n",
    "    away_goals = get_goals(matches_away_team, away_team)\n",
    "    home_goals_conceided = get_goals_conceided(matches_home_team, home_team)\n",
    "    away_goals_conceided = get_goals_conceided(matches_away_team, away_team)\n",
    "\n",
    "    # Define result data frame\n",
    "    result = pd.DataFrame()\n",
    "\n",
    "    # Define ID features\n",
    "    result.loc[0, 'match_api_id'] = match.match_api_id\n",
    "    result.loc[0, 'league_id'] = match.league_id\n",
    "\n",
    "    # Create match features and team stats\n",
    "    if not home_team_stats.empty:\n",
    "        result.loc[0, 'home_team_buildUpPlaySpeed'] = home_team_stats['buildUpPlaySpeed'].values[0]\n",
    "        result.loc[0, 'home_team_buildUpPlayPassing'] = home_team_stats['buildUpPlayPassing'].values[0]\n",
    "        result.loc[0, 'home_team_chanceCreationPassing'] = home_team_stats['chanceCreationPassing'].values[0]\n",
    "        result.loc[0, 'home_team_chanceCreationCrossing'] = home_team_stats['chanceCreationCrossing'].values[0]\n",
    "        result.loc[0, 'home_team_chanceCreationShooting'] = home_team_stats['chanceCreationShooting'].values[0]\n",
    "        result.loc[0, 'home_team_defencePressure'] = home_team_stats['defencePressure'].values[0]\n",
    "        result.loc[0, 'home_team_defenceAggression'] = home_team_stats['defenceAggression'].values[0]\n",
    "        result.loc[0, 'home_team_defenceTeamWidth'] = home_team_stats['defenceTeamWidth'].values[0]\n",
    "        result.loc[0, 'home_team_avg_shots'] = home_team_stats['avg_shots'].values[0]\n",
    "        result.loc[0, 'home_team_avg_corners'] = home_team_stats['avg_corners'].values[0]\n",
    "        result.loc[0, 'home_team_avg_crosses'] = away_team_stats['avg_crosses'].values[0]\n",
    "\n",
    "    if (not away_team_stats.empty):\n",
    "        result.loc[0, 'away_team_buildUpPlaySpeed'] = away_team_stats['buildUpPlaySpeed'].values[0]\n",
    "        result.loc[0, 'away_team_buildUpPlayPassing'] = away_team_stats['buildUpPlayPassing'].values[0]\n",
    "        result.loc[0, 'away_team_chanceCreationPassing'] = away_team_stats['chanceCreationPassing'].values[0]\n",
    "        result.loc[0, 'away_team_chanceCreationCrossing'] = away_team_stats['chanceCreationCrossing'].values[0]\n",
    "        result.loc[0, 'away_team_chanceCreationShooting'] = away_team_stats['chanceCreationShooting'].values[0]\n",
    "        result.loc[0, 'away_team_defencePressure'] = away_team_stats['defencePressure'].values[0]\n",
    "        result.loc[0, 'away_team_defenceAggression'] = away_team_stats['defenceAggression'].values[0]\n",
    "        result.loc[0, 'away_team_defenceTeamWidth'] = away_team_stats['defenceTeamWidth'].values[0]\n",
    "        result.loc[0, 'away_team_avg_shots'] = away_team_stats['avg_shots'].values[0]\n",
    "        result.loc[0, 'away_team_avg_corners'] = away_team_stats['avg_corners'].values[0]\n",
    "        result.loc[0, 'away_team_avg_crosses'] = away_team_stats['avg_crosses'].values[0]\n",
    "\n",
    "    result.loc[0, 'home_team_goals_difference'] = home_goals - home_goals_conceided\n",
    "    result.loc[0, 'away_team_goals_difference'] = away_goals - away_goals_conceided\n",
    "    result.loc[0, 'games_won_home_team'] = get_wins(matches_home_team, home_team)\n",
    "    result.loc[0, 'games_won_away_team'] = get_wins(matches_away_team, away_team)\n",
    "    result.loc[0, 'games_against_won'] = get_wins(last_matches_against, home_team)\n",
    "    result.loc[0, 'games_against_lost'] = get_wins(last_matches_against, away_team)\n",
    "    result.loc[0, 'B365H'] = match.B365H\n",
    "    result.loc[0, 'B365D'] = match.B365D\n",
    "    result.loc[0, 'B365A'] = match.B365A\n",
    "\n",
    "    # Return match features\n",
    "    return result.loc[0]\n",
    "\n",
    "\n",
    "''' Create and aggregate features and labels for all matches. '''\n",
    "def get_features(matches, teams_stats, fifa, x=10, get_overall=False):\n",
    "    # Get fifa stats features\n",
    "    fifa_stats = get_overall_fifa_rankings(fifa, get_overall)\n",
    "\n",
    "    # Get match features for all matches\n",
    "    match_stats = matches.apply(lambda i: get_match_features(i, matches, teams_stats, x=10), axis=1)\n",
    "\n",
    "    # Create dummies for league ID feature\n",
    "    dummies = pd.get_dummies(match_stats['league_id']).rename(columns=lambda x: 'League_' + str(x))\n",
    "    match_stats = pd.concat([match_stats, dummies], axis=1)\n",
    "    match_stats.drop(['league_id'], inplace=True, axis=1)\n",
    "\n",
    "    # Create match outcomes\n",
    "    outcomes = matches.apply(get_match_outcome, axis=1)\n",
    "\n",
    "    # Merges features and outcomes into one frame\n",
    "    features = pd.merge(match_stats, fifa_stats, on='match_api_id', how='left')\n",
    "    features = pd.merge(features, outcomes, on='match_api_id', how='left')\n",
    "\n",
    "    # Drop NA values\n",
    "    features.dropna(inplace=True)\n",
    "\n",
    "    # Return preprocessed data\n",
    "    return features\n",
    "\n",
    "''' Get overall fifa rankings from fifa data. '''\n",
    "def get_overall_fifa_rankings(fifa, get_overall=False):\n",
    "    \n",
    "    temp_data = fifa\n",
    "\n",
    "    # Check if only overall player stats are desired\n",
    "    if get_overall == True:\n",
    "\n",
    "        # Get overall stats\n",
    "        data = temp_data.loc[:, (fifa.columns.str.contains('overall_rating'))]\n",
    "        data.loc[:, 'match_api_id'] = temp_data.loc[:, 'match_api_id']\n",
    "    else:\n",
    "\n",
    "        # Get all stats except for stat date\n",
    "        cols = fifa.loc[:, (fifa.columns.str.contains('date_stat'))]\n",
    "        temp_data = fifa.drop(cols.columns, axis=1)\n",
    "        data = temp_data\n",
    "\n",
    "    # Return data\n",
    "    return data"
   ],
   "metadata": {
    "collapsed": false,
    "ExecuteTime": {
     "end_time": "2024-04-15T08:28:11.292241100Z",
     "start_time": "2024-04-15T08:28:11.238950900Z"
    }
   },
   "id": "e9611f31e2cae3a3",
   "execution_count": 29
  },
  {
   "cell_type": "markdown",
   "source": [
    "Chọn lọc người dự đoán có số lượng dữ liệu dự đoán nhiều nhất từ dữ liệu có sẵn"
   ],
   "metadata": {
    "collapsed": false
   },
   "id": "7b8f6b9416dc6754"
  },
  {
   "cell_type": "code",
   "outputs": [],
   "source": [
    "viable_matches = matches.sample(n=5000)\n",
    "b365 = viable_matches.dropna(subset=['B365H', 'B365D', 'B365A'], inplace=False)\n",
    "b365.drop(['BWH', 'BWD', 'BWA',\n",
    "           'IWH', 'IWD', 'IWA',\n",
    "           'LBH', 'LBD', 'LBA',\n",
    "           'PSH', 'PSD', 'PSA',\n",
    "           'WHH', 'WHD', 'WHA',\n",
    "           'SJH', 'SJD', 'SJA',\n",
    "           'VCH', 'VCD', 'VCA',\n",
    "           'GBH', 'GBD', 'GBA',\n",
    "           'BSH', 'BSD', 'BSA'], inplace=True, axis=1)\n",
    "\n",
    "bw = viable_matches.dropna(subset=['BWH', 'BWD', 'BWA'], inplace=False)\n",
    "bw.drop(['B365H', 'B365D', 'B365A',\n",
    "         'IWH', 'IWD', 'IWA',\n",
    "         'LBH', 'LBD', 'LBA',\n",
    "         'PSH', 'PSD', 'PSA',\n",
    "         'WHH', 'WHD', 'WHA',\n",
    "         'SJH', 'SJD', 'SJA',\n",
    "         'VCH', 'VCD', 'VCA',\n",
    "         'GBH', 'GBD', 'GBA',\n",
    "         'BSH', 'BSD', 'BSA'], inplace=True, axis=1)\n",
    "\n",
    "iw = viable_matches.dropna(subset=['IWH', 'IWD', 'IWA'], inplace=False)\n",
    "iw.drop(['B365H', 'B365D', 'B365A',\n",
    "         'BWH', 'BWD', 'BWA',\n",
    "         'LBH', 'LBD', 'LBA',\n",
    "         'PSH', 'PSD', 'PSA',\n",
    "         'WHH', 'WHD', 'WHA',\n",
    "         'SJH', 'SJD', 'SJA',\n",
    "         'VCH', 'VCD', 'VCA',\n",
    "         'GBH', 'GBD', 'GBA',\n",
    "         'BSH', 'BSD', 'BSA'], inplace=True, axis=1)\n",
    "\n",
    "lb = viable_matches.dropna(subset=['LBH', 'LBD', 'LBA'], inplace=False)\n",
    "lb.drop(['B365H', 'B365D', 'B365A',\n",
    "         'BWH', 'BWD', 'BWA',\n",
    "         'IWH', 'IWD', 'IWA',\n",
    "         'PSH', 'PSD', 'PSA',\n",
    "         'WHH', 'WHD', 'WHA',\n",
    "         'SJH', 'SJD', 'SJA',\n",
    "         'VCH', 'VCD', 'VCA',\n",
    "         'GBH', 'GBD', 'GBA',\n",
    "         'BSH', 'BSD', 'BSA'], inplace=True, axis=1)\n",
    "\n",
    "ps = viable_matches.dropna(subset=['PSH', 'PSD', 'PSA'], inplace=False)\n",
    "ps.drop(['B365H', 'B365D', 'B365A',\n",
    "         'BWH', 'BWD', 'BWA',\n",
    "         'IWH', 'IWD', 'IWA',\n",
    "         'LBH', 'LBD', 'LBA',\n",
    "         'WHH', 'WHD', 'WHA',\n",
    "         'SJH', 'SJD', 'SJA',\n",
    "         'VCH', 'VCD', 'VCA',\n",
    "         'GBH', 'GBD', 'GBA',\n",
    "         'BSH', 'BSD', 'BSA'], inplace=True, axis=1)\n",
    "\n",
    "wh = viable_matches.dropna(subset=['WHH', 'WHD', 'WHA'], inplace=False)\n",
    "wh.drop(['B365H', 'B365D', 'B365A',\n",
    "         'BWH', 'BWD', 'BWA',\n",
    "         'IWH', 'IWD', 'IWA',\n",
    "         'LBH', 'LBD', 'LBA',\n",
    "         'PSH', 'PSD', 'PSA',\n",
    "         'SJH', 'SJD', 'SJA',\n",
    "         'VCH', 'VCD', 'VCA',\n",
    "         'GBH', 'GBD', 'GBA',\n",
    "         'BSH', 'BSD', 'BSA'], inplace=True, axis=1)\n",
    "\n",
    "sj = viable_matches.dropna(subset=['SJH', 'SJD', 'SJA'], inplace=False)\n",
    "sj.drop(['B365H', 'B365D', 'B365A',\n",
    "         'BWH', 'BWD', 'BWA',\n",
    "         'IWH', 'IWD', 'IWA',\n",
    "         'LBH', 'LBD', 'LBA',\n",
    "         'PSH', 'PSD', 'PSA',\n",
    "         'WHH', 'WHD', 'WHA',\n",
    "         'VCH', 'VCD', 'VCA',\n",
    "         'GBH', 'GBD', 'GBA',\n",
    "         'BSH', 'BSD', 'BSA'], inplace=True, axis=1)\n",
    "\n",
    "vc = viable_matches.dropna(subset=['VCH', 'VCD', 'VCA'], inplace=False)\n",
    "vc.drop(['B365H', 'B365D', 'B365A',\n",
    "         'BWH', 'BWD', 'BWA',\n",
    "         'IWH', 'IWD', 'IWA',\n",
    "         'LBH', 'LBD', 'LBA',\n",
    "         'PSH', 'PSD', 'PSA',\n",
    "         'WHH', 'WHD', 'WHA',\n",
    "         'SJH', 'SJD', 'SJA',\n",
    "         'GBH', 'GBD', 'GBA',\n",
    "         'BSH', 'BSD', 'BSA'], inplace=True, axis=1)\n",
    "\n",
    "gb = viable_matches.dropna(subset=['GBH', 'GBD', 'GBA'], inplace=False)\n",
    "gb.drop(['B365H', 'B365D', 'B365A',\n",
    "         'BWH', 'BWD', 'BWA',\n",
    "         'IWH', 'IWD', 'IWA',\n",
    "         'LBH', 'LBD', 'LBA',\n",
    "         'PSH', 'PSD', 'PSA',\n",
    "         'WHH', 'WHD', 'WHA',\n",
    "         'SJH', 'SJD', 'SJA',\n",
    "         'VCH', 'VCD', 'VCA',\n",
    "         'BSH', 'BSD', 'BSA'], inplace=True, axis=1)\n",
    "\n",
    "bs = viable_matches.dropna(subset=['BSH', 'BSD', 'BSA'], inplace=False)\n",
    "bs.drop(['B365H', 'B365D', 'B365A',\n",
    "         'BWH', 'BWD', 'BWA',\n",
    "         'IWH', 'IWD', 'IWA',\n",
    "         'LBH', 'LBD', 'LBA',\n",
    "         'PSH', 'PSD', 'PSA',\n",
    "         'WHH', 'WHD', 'WHA',\n",
    "         'SJH', 'SJD', 'SJA',\n",
    "         'VCH', 'VCD', 'VCA',\n",
    "         'GBH', 'GBD', 'GBA'], inplace=True, axis=1)\n",
    "\n",
    "lis = [b365, bw, iw, lb, ps, wh, sj, vc, gb, bs]\n",
    "\n",
    "viable_matches = max(lis, key=lambda datframe: datframe.shape[0])"
   ],
   "metadata": {
    "collapsed": false,
    "ExecuteTime": {
     "end_time": "2024-04-15T08:28:11.502465200Z",
     "start_time": "2024-04-15T08:28:11.308162300Z"
    }
   },
   "id": "5aecca225ba44cc3",
   "execution_count": 30
  },
  {
   "cell_type": "markdown",
   "source": [
    "Loại bỏ các hàng dữ liệu không chứa thông tin nào về vị trí của \n",
    "cầu thủ trong một trận đấu"
   ],
   "metadata": {
    "collapsed": false
   },
   "id": "c26d6419343ee10d"
  },
  {
   "cell_type": "code",
   "outputs": [],
   "source": [
    "teams_stats = team_attributes\n",
    "viable_matches = viable_matches.dropna(inplace=False)\n",
    "\n",
    "home_teams = viable_matches['home_team_api_id'].isin(teams_stats['team_api_id'].tolist())\n",
    "away_teams = viable_matches['away_team_api_id'].isin(teams_stats['team_api_id'].tolist())\n",
    "viable_matches = viable_matches[home_teams & away_teams]"
   ],
   "metadata": {
    "collapsed": false,
    "ExecuteTime": {
     "end_time": "2024-04-15T08:28:11.560693600Z",
     "start_time": "2024-04-15T08:28:11.514623300Z"
    }
   },
   "id": "992b8512c8886178",
   "execution_count": 31
  },
  {
   "cell_type": "markdown",
   "source": [
    "### Xử lí dữ liệu về các thuộc tính đội trong một trận đấu"
   ],
   "metadata": {
    "collapsed": false
   },
   "id": "91b337701ad9a478"
  },
  {
   "cell_type": "markdown",
   "source": [
    "#### Thuộc tính buildUpPlayDribbling"
   ],
   "metadata": {
    "collapsed": false
   },
   "id": "dde4270365609d07"
  },
  {
   "cell_type": "code",
   "outputs": [
    {
     "data": {
      "text/plain": "<Figure size 640x480 with 1 Axes>",
      "image/png": "[encoded data removed]"
     },
     "metadata": {},
     "output_type": "display_data"
    }
   ],
   "source": [
    "teams_stats['buildUpPlayDribbling'].hist();"
   ],
   "metadata": {
    "collapsed": false,
    "ExecuteTime": {
     "end_time": "2024-04-15T08:28:11.722499200Z",
     "start_time": "2024-04-15T08:28:11.569284300Z"
    }
   },
   "id": "875697619207b0de",
   "execution_count": 32
  },
  {
   "cell_type": "markdown",
   "source": [
    "Hầu hết các giá trị của buildUpPlayDribbling nằm trong khoảng 45 - 55, vì vậy chúng ta hãy điền các giá trị Nan này bằng tốc độ buildUpPlaySpeed trung bình được đo."
   ],
   "metadata": {
    "collapsed": false
   },
   "id": "eef954e8a85f0826"
  },
  {
   "cell_type": "code",
   "outputs": [],
   "source": [
    "build_up_play_drib_avg = teams_stats['buildUpPlayDribbling'].mean()\n",
    "\n",
    "teams_stats.loc[(teams_stats['buildUpPlayDribbling'].isnull()), 'buildUpPlayDribbling'] = build_up_play_drib_avg"
   ],
   "metadata": {
    "collapsed": false,
    "ExecuteTime": {
     "end_time": "2024-04-15T08:28:11.727080500Z",
     "start_time": "2024-04-15T08:28:11.724905400Z"
    }
   },
   "id": "51392f1197cbdf49",
   "execution_count": 33
  },
  {
   "cell_type": "markdown",
   "source": [
    "Chọn lựa các cột chứa giá trị là số để làm đầu vào cho mô hình học máy"
   ],
   "metadata": {
    "collapsed": false
   },
   "id": "dfe7955943d01bcb"
  },
  {
   "cell_type": "code",
   "outputs": [],
   "source": [
    "teams_stats.drop(['buildUpPlaySpeedClass', 'buildUpPlayDribblingClass', 'buildUpPlayPassingClass', \n",
    "    'buildUpPlayPositioningClass', 'chanceCreationPassingClass', 'chanceCreationCrossingClass',  \n",
    "    'chanceCreationShootingClass','chanceCreationPositioningClass','defencePressureClass', 'defenceAggressionClass', \n",
    "    'defenceTeamWidthClass','defenceDefenderLineClass'], inplace = True, axis = 1)"
   ],
   "metadata": {
    "collapsed": false,
    "ExecuteTime": {
     "end_time": "2024-04-15T08:28:11.741344100Z",
     "start_time": "2024-04-15T08:28:11.729273600Z"
    }
   },
   "id": "1885245eb8c102fd",
   "execution_count": 34
  },
  {
   "cell_type": "markdown",
   "source": [
    "#### Thuộc tính avg_shots"
   ],
   "metadata": {
    "collapsed": false
   },
   "id": "7c04c3f29dc588d5"
  },
  {
   "cell_type": "markdown",
   "source": [
    "Tính toán và kết hợp vào bộ dữ liệu đầu"
   ],
   "metadata": {
    "collapsed": false
   },
   "id": "6b3871ff911f9c12"
  },
  {
   "cell_type": "code",
   "outputs": [],
   "source": [
    "shots_off = pd.read_csv(\"dataset/shotoff_detail.csv\")\n",
    "shots_on = pd.read_csv(\"dataset/shoton_detail.csv\")\n",
    "shots = pd.concat([shots_off[['match_id', 'team']], shots_on[['match_id', 'team']]])\n",
    "\n",
    "total_shots = shots[\"team\"].value_counts()\n",
    "total_matches = shots.drop_duplicates(['match_id', 'team'])[\"team\"].value_counts()\n",
    "\n",
    "for index, n_shots in total_shots.items():\n",
    "    n_matches = total_matches[index]\n",
    "    avg_shots = n_shots / n_matches\n",
    "    teams_stats.loc[teams_stats['team_api_id'] == index, 'avg_shots'] = avg_shots"
   ],
   "metadata": {
    "collapsed": false,
    "ExecuteTime": {
     "end_time": "2024-04-15T08:28:12.111302400Z",
     "start_time": "2024-04-15T08:28:11.738005300Z"
    }
   },
   "id": "3fdb5a2e83cbfbb5",
   "execution_count": 35
  },
  {
   "cell_type": "code",
   "outputs": [
    {
     "data": {
      "text/plain": "<Figure size 640x480 with 1 Axes>",
      "image/png": "[encoded data removed]"
     },
     "metadata": {},
     "output_type": "display_data"
    }
   ],
   "source": [
    "teams_stats['avg_shots'].hist();"
   ],
   "metadata": {
    "collapsed": false,
    "ExecuteTime": {
     "end_time": "2024-04-15T08:28:12.267291600Z",
     "start_time": "2024-04-15T08:28:12.128518600Z"
    }
   },
   "id": "4ce24b34be4becff",
   "execution_count": 36
  },
  {
   "cell_type": "markdown",
   "source": [
    "Hầu hết các giá trị avg_shots nằm trong phạm vi 7 - 14, vì vậy hãy điền các giá trị Nan này bằng giá trị trung bình được đo đạc của avg_shots."
   ],
   "metadata": {
    "collapsed": false
   },
   "id": "550176f053f6d49c"
  },
  {
   "cell_type": "code",
   "outputs": [],
   "source": [
    "shots_avg_team_avg = teams_stats['avg_shots'].mean()\n",
    "\n",
    "teams_stats.loc[(teams_stats['avg_shots'].isnull()), 'avg_shots'] = shots_avg_team_avg"
   ],
   "metadata": {
    "collapsed": false,
    "ExecuteTime": {
     "end_time": "2024-04-15T08:28:12.278361600Z",
     "start_time": "2024-04-15T08:28:12.270573800Z"
    }
   },
   "id": "8a7b8dab809e130f",
   "execution_count": 37
  },
  {
   "cell_type": "markdown",
   "source": [
    "#### Thuộc tính corners"
   ],
   "metadata": {
    "collapsed": false
   },
   "id": "61aae5a0446eb47"
  },
  {
   "cell_type": "markdown",
   "source": [
    "Kết hợp dữ liệu corners trong cơ sở dữ liệu vào bộ dữ liệu đầu vào"
   ],
   "metadata": {
    "collapsed": false
   },
   "id": "654924bb1be61f62"
  },
  {
   "cell_type": "code",
   "outputs": [],
   "source": [
    "corners_data = pd.read_csv(\"dataset/corner_detail.csv\")\n",
    "corners = corners_data[['match_id', 'team']]\n",
    "\n",
    "total_corners = corners[\"team\"].value_counts()\n",
    "total_matches = corners.drop_duplicates(['match_id', 'team'])[\"team\"].value_counts()\n",
    "\n",
    "for index, n_corners in total_shots.items():\n",
    "    n_matches = total_matches[index]\n",
    "    avg_corners = n_corners / n_matches\n",
    "    teams_stats.loc[teams_stats['team_api_id'] == index, 'avg_corners'] = avg_corners"
   ],
   "metadata": {
    "collapsed": false,
    "ExecuteTime": {
     "end_time": "2024-04-15T08:28:12.515603900Z",
     "start_time": "2024-04-15T08:28:12.277992600Z"
    }
   },
   "id": "4c1c0dfdd240dc0a",
   "execution_count": 38
  },
  {
   "cell_type": "code",
   "outputs": [
    {
     "data": {
      "text/plain": "<Figure size 640x480 with 1 Axes>",
      "image/png": "[encoded data removed]"
     },
     "metadata": {},
     "output_type": "display_data"
    }
   ],
   "source": [
    "teams_stats['avg_corners'].hist();"
   ],
   "metadata": {
    "collapsed": false,
    "ExecuteTime": {
     "end_time": "2024-04-15T08:28:12.687445500Z",
     "start_time": "2024-04-15T08:28:12.531131100Z"
    }
   },
   "id": "e0efdecbcb2918cb",
   "execution_count": 39
  },
  {
   "cell_type": "markdown",
   "source": [
    "Chúng ta có thể thấy rằng hầu hết các giá trị avg_corners nằm trong khoảng 8.5 - 12, vì vậy sẽ điền các mục có giá trị Nan này bằng giá trị trung bình của avg_corners đã đo được."
   ],
   "metadata": {
    "collapsed": false
   },
   "id": "1f11f91f3fb1a286"
  },
  {
   "cell_type": "code",
   "outputs": [],
   "source": [
    "corners_avg_team_avg = teams_stats['avg_corners'].mean()\n",
    "\n",
    "teams_stats.loc[(teams_stats['avg_corners'].isnull()), 'avg_corners'] = corners_avg_team_avg"
   ],
   "metadata": {
    "collapsed": false,
    "ExecuteTime": {
     "end_time": "2024-04-15T08:28:12.691310500Z",
     "start_time": "2024-04-15T08:28:12.688653600Z"
    }
   },
   "id": "5616944e5ad9b3d9",
   "execution_count": 40
  },
  {
   "cell_type": "markdown",
   "source": [
    "#### Thuộc tính crosses"
   ],
   "metadata": {
    "collapsed": false
   },
   "id": "3a7452133b52ac60"
  },
  {
   "cell_type": "markdown",
   "source": [
    "Kết hợp dữ liệu cross trong cơ sở dữ liệu vào bộ dữ liệu làm đầu vào"
   ],
   "metadata": {
    "collapsed": false
   },
   "id": "56f5396536fe9ec2"
  },
  {
   "cell_type": "code",
   "outputs": [],
   "source": [
    "crosses_data = pd.read_csv(\"dataset/cross_detail.csv\")\n",
    "\n",
    "crosses = crosses_data[['match_id', 'team']]\n",
    "total_crosses = crosses[\"team\"].value_counts()\n",
    "total_matches = crosses.drop_duplicates(['match_id', 'team'])[\"team\"].value_counts()\n",
    "\n",
    "for index, n_crosses in total_crosses.items():\n",
    "    n_matches = total_matches[index]\n",
    "    avg_crosses = n_crosses / n_matches\n",
    "    teams_stats.loc[teams_stats['team_api_id'] == index, 'avg_crosses'] = avg_crosses"
   ],
   "metadata": {
    "collapsed": false,
    "ExecuteTime": {
     "end_time": "2024-04-15T08:28:13.217264600Z",
     "start_time": "2024-04-15T08:28:12.693378200Z"
    }
   },
   "id": "643492fde805dabd",
   "execution_count": 41
  },
  {
   "cell_type": "markdown",
   "source": [
    "teams_stats['avg_crosses'].hist();"
   ],
   "metadata": {
    "collapsed": false
   },
   "id": "89d4b234e3e86b3b"
  },
  {
   "cell_type": "markdown",
   "source": [
    "Bảng dữ liệu của thuộc tính cross cũng sẽ có những hàng dữ liệu bị khuyết giá trị. Có thể thấy rằng hầu hết các giá trị avg_crosses nằm trong khoảng 12.5 - 17.5, vì vậy sẽ điền các mục này bằng giá trị trung bình của avg_crosses đã đo được."
   ],
   "metadata": {
    "collapsed": false
   },
   "id": "d586041f9b899fc5"
  },
  {
   "cell_type": "code",
   "outputs": [],
   "source": [
    "crosses_avg_team_avg = teams_stats['avg_crosses'].mean()\n",
    "\n",
    "teams_stats.loc[(teams_stats['avg_crosses'].isnull()), 'avg_crosses'] = crosses_avg_team_avg"
   ],
   "metadata": {
    "collapsed": false,
    "ExecuteTime": {
     "end_time": "2024-04-15T08:28:13.227050100Z",
     "start_time": "2024-04-15T08:28:13.220159100Z"
    }
   },
   "id": "e6b521f1a641e9aa",
   "execution_count": 42
  },
  {
   "cell_type": "markdown",
   "source": [
    "### Xử lí dữ liệu của FIFA"
   ],
   "metadata": {
    "collapsed": false
   },
   "id": "617c27dc87cc2c4e"
  },
  {
   "cell_type": "code",
   "outputs": [],
   "source": [
    "def get_fifa_stats(match, player_stats):\n",
    "    ''' Aggregates fifa stats for a given match. '''    \n",
    "    \n",
    "    #Define variables\n",
    "    match_id =  match.match_api_id\n",
    "    date = match['date']\n",
    "    players = ['home_player_1', 'home_player_2', 'home_player_3', \"home_player_4\", \"home_player_5\",\n",
    "               \"home_player_6\", \"home_player_7\", \"home_player_8\", \"home_player_9\", \"home_player_10\",\n",
    "               \"home_player_11\", \"away_player_1\", \"away_player_2\", \"away_player_3\", \"away_player_4\",\n",
    "               \"away_player_5\", \"away_player_6\", \"away_player_7\", \"away_player_8\", \"away_player_9\",\n",
    "               \"away_player_10\", \"away_player_11\"]\n",
    "    player_stats_new = pd.DataFrame()\n",
    "    names = []\n",
    "    \n",
    "    #Loop through all players\n",
    "    for player in players:   \n",
    "            \n",
    "        #Get player ID\n",
    "        player_id = match[player]\n",
    "        \n",
    "        #Get player stats \n",
    "        stats = player_stats[player_stats.player_api_id == player_id]\n",
    "            \n",
    "        #Identify current stats       \n",
    "        current_stats = stats[stats.date < date].sort_values(by = 'date', ascending = False)[:1]\n",
    "        \n",
    "        if np.isnan(player_id) == True:\n",
    "            overall_rating = pd.Series(0)\n",
    "        else:\n",
    "            current_stats.reset_index(inplace = True, drop = True)\n",
    "            overall_rating = pd.Series(current_stats.loc[0, \"overall_rating\"])\n",
    "\n",
    "        #Rename stat\n",
    "        name = \"{}_overall_rating\".format(player)\n",
    "        names.append(name)\n",
    "            \n",
    "        #Aggregate stats\n",
    "        player_stats_new = pd.concat([player_stats_new, overall_rating], axis = 1)\n",
    "    \n",
    "    player_stats_new.columns = names        \n",
    "    player_stats_new['match_api_id'] = match_id\n",
    "\n",
    "    player_stats_new.reset_index(inplace = True, drop = True)\n",
    "    \n",
    "    #Return player stats    \n",
    "    return player_stats_new.iloc[0]    \n",
    "\n",
    "\n",
    "def get_fifa_data(matches, player_stats, path = None, data_exists = False):\n",
    "    ''' Gets fifa data for all matches. '''  \n",
    "    \n",
    "    #Check if fifa data already exists\n",
    "    if data_exists == True:\n",
    "        fifa_data = pd.read_pickle(path)\n",
    "        \n",
    "    else:\n",
    "        print(\"Collecting fifa data for each match...\")       \n",
    "        start = time()\n",
    "        \n",
    "        #Apply get_fifa_stats for each match\n",
    "        fifa_data = matches.apply(lambda x :get_fifa_stats(x, player_stats), axis = 1)\n",
    "        \n",
    "        end = time()    \n",
    "        print(\"Fifa data collected in {:.1f} minutes\".format((end - start)/60))\n",
    "    \n",
    "    #Return fifa_data\n",
    "    return fifa_data"
   ],
   "metadata": {
    "collapsed": false,
    "ExecuteTime": {
     "end_time": "2024-04-15T08:28:13.250080100Z",
     "start_time": "2024-04-15T08:28:13.234780400Z"
    }
   },
   "id": "ae2cb26d9c263644",
   "execution_count": 43
  },
  {
   "cell_type": "code",
   "outputs": [
    {
     "name": "stdout",
     "output_type": "stream",
     "text": [
      "Collecting fifa data for each match...\n",
      "Fifa data collected in 1.3 minutes\n"
     ]
    },
    {
     "data": {
      "text/plain": "       home_player_1_overall_rating  home_player_2_overall_rating  \\\ncount                   2582.000000                   2582.000000   \nmean                      76.137103                     72.714562   \nstd                        5.392443                      5.166002   \nmin                       43.000000                     51.000000   \n25%                       73.000000                     70.000000   \n50%                       76.000000                     73.000000   \n75%                       80.000000                     76.000000   \nmax                       91.000000                     88.000000   \n\n       home_player_3_overall_rating  home_player_4_overall_rating  \\\ncount                   2582.000000                   2582.000000   \nmean                      74.694810                     74.491479   \nstd                        4.885893                      5.262844   \nmin                       57.000000                     48.000000   \n25%                       72.000000                     72.000000   \n50%                       75.000000                     75.000000   \n75%                       78.000000                     78.000000   \nmax                       89.000000                     89.000000   \n\n       home_player_5_overall_rating  home_player_6_overall_rating  \\\ncount                   2582.000000                   2582.000000   \nmean                      72.553447                     74.386522   \nstd                        5.133028                      5.107836   \nmin                       52.000000                     51.000000   \n25%                       69.000000                     71.000000   \n50%                       73.000000                     74.000000   \n75%                       76.000000                     78.000000   \nmax                       90.000000                     92.000000   \n\n       home_player_7_overall_rating  home_player_8_overall_rating  \\\ncount                   2582.000000                   2582.000000   \nmean                      74.331139                     74.348954   \nstd                        5.178034                      5.285517   \nmin                       51.000000                     51.000000   \n25%                       71.000000                     71.000000   \n50%                       74.000000                     74.000000   \n75%                       77.750000                     78.000000   \nmax                       92.000000                     90.000000   \n\n       home_player_9_overall_rating  home_player_10_overall_rating  ...  \\\ncount                   2582.000000                    2582.000000  ...   \nmean                      75.224245                      75.599148  ...   \nstd                        5.229975                       5.535631  ...   \nmin                       55.000000                      53.000000  ...   \n25%                       72.000000                      72.000000  ...   \n50%                       75.000000                      75.000000  ...   \n75%                       78.000000                      79.000000  ...   \nmax                       94.000000                      94.000000  ...   \n\n       away_player_3_overall_rating  away_player_4_overall_rating  \\\ncount                   2582.000000                   2582.000000   \nmean                      74.778079                     74.536793   \nstd                        5.023688                      5.402441   \nmin                       56.000000                     54.000000   \n25%                       72.000000                     71.000000   \n50%                       75.000000                     74.000000   \n75%                       78.000000                     78.000000   \nmax                       89.000000                     89.000000   \n\n       away_player_5_overall_rating  away_player_6_overall_rating  \\\ncount                   2582.000000                   2582.000000   \nmean                      72.615802                     74.295120   \nstd                        5.015855                      5.260628   \nmin                       51.000000                     51.000000   \n25%                       70.000000                     71.000000   \n50%                       73.000000                     74.000000   \n75%                       76.000000                     78.000000   \nmax                       87.000000                     91.000000   \n\n       away_player_7_overall_rating  away_player_8_overall_rating  \\\ncount                   2582.000000                   2582.000000   \nmean                      74.440356                     74.449651   \nstd                        5.195978                      5.340805   \nmin                       50.000000                     54.000000   \n25%                       71.000000                     71.000000   \n50%                       74.000000                     74.000000   \n75%                       78.000000                     78.000000   \nmax                       91.000000                     91.000000   \n\n       away_player_9_overall_rating  away_player_10_overall_rating  \\\ncount                   2582.000000                    2582.000000   \nmean                      75.050736                      75.602634   \nstd                        5.556527                       5.751010   \nmin                       51.000000                      54.000000   \n25%                       72.000000                      72.000000   \n50%                       75.000000                      75.000000   \n75%                       79.000000                      79.000000   \nmax                       94.000000                      94.000000   \n\n       away_player_11_overall_rating  match_api_id  \ncount                    2582.000000  2.582000e+03  \nmean                       75.713400  1.263737e+06  \nstd                         5.466743  4.874634e+05  \nmin                        55.000000  4.890540e+05  \n25%                        72.000000  8.570322e+05  \n50%                        75.000000  1.239478e+06  \n75%                        79.000000  1.712693e+06  \nmax                        93.000000  2.060645e+06  \n\n[8 rows x 23 columns]",
      "text/html": "<div>\n<style scoped>\n    .dataframe tbody tr th:only-of-type {\n        vertical-align: middle;\n    }\n\n    .dataframe tbody tr th {\n        vertical-align: top;\n    }\n\n    .dataframe thead th {\n        text-align: right;\n    }\n</style>\n<table border=\"1\" class=\"dataframe\">\n  <thead>\n    <tr style=\"text-align: right;\">\n      <th></th>\n      <th>home_player_1_overall_rating</th>\n      <th>home_player_2_overall_rating</th>\n      <th>home_player_3_overall_rating</th>\n      <th>home_player_4_overall_rating</th>\n      <th>home_player_5_overall_rating</th>\n      <th>home_player_6_overall_rating</th>\n      <th>home_player_7_overall_rating</th>\n      <th>home_player_8_overall_rating</th>\n      <th>home_player_9_overall_rating</th>\n      <th>home_player_10_overall_rating</th>\n      <th>...</th>\n      <th>away_player_3_overall_rating</th>\n      <th>away_player_4_overall_rating</th>\n      <th>away_player_5_overall_rating</th>\n      <th>away_player_6_overall_rating</th>\n      <th>away_player_7_overall_rating</th>\n      <th>away_player_8_overall_rating</th>\n      <th>away_player_9_overall_rating</th>\n      <th>away_player_10_overall_rating</th>\n      <th>away_player_11_overall_rating</th>\n      <th>match_api_id</th>\n    </tr>\n  </thead>\n  <tbody>\n    <tr>\n      <th>count</th>\n      <td>2582.000000</td>\n      <td>2582.000000</td>\n      <td>2582.000000</td>\n      <td>2582.000000</td>\n      <td>2582.000000</td>\n      <td>2582.000000</td>\n      <td>2582.000000</td>\n      <td>2582.000000</td>\n      <td>2582.000000</td>\n      <td>2582.000000</td>\n      <td>...</td>\n      <td>2582.000000</td>\n      <td>2582.000000</td>\n      <td>2582.000000</td>\n      <td>2582.000000</td>\n      <td>2582.000000</td>\n      <td>2582.000000</td>\n      <td>2582.000000</td>\n      <td>2582.000000</td>\n      <td>2582.000000</td>\n      <td>2.582000e+03</td>\n    </tr>\n    <tr>\n      <th>mean</th>\n      <td>76.137103</td>\n      <td>72.714562</td>\n      <td>74.694810</td>\n      <td>74.491479</td>\n      <td>72.553447</td>\n      <td>74.386522</td>\n      <td>74.331139</td>\n      <td>74.348954</td>\n      <td>75.224245</td>\n      <td>75.599148</td>\n      <td>...</td>\n      <td>74.778079</td>\n      <td>74.536793</td>\n      <td>72.615802</td>\n      <td>74.295120</td>\n      <td>74.440356</td>\n      <td>74.449651</td>\n      <td>75.050736</td>\n      <td>75.602634</td>\n      <td>75.713400</td>\n      <td>1.263737e+06</td>\n    </tr>\n    <tr>\n      <th>std</th>\n      <td>5.392443</td>\n      <td>5.166002</td>\n      <td>4.885893</td>\n      <td>5.262844</td>\n      <td>5.133028</td>\n      <td>5.107836</td>\n      <td>5.178034</td>\n      <td>5.285517</td>\n      <td>5.229975</td>\n      <td>5.535631</td>\n      <td>...</td>\n      <td>5.023688</td>\n      <td>5.402441</td>\n      <td>5.015855</td>\n      <td>5.260628</td>\n      <td>5.195978</td>\n      <td>5.340805</td>\n      <td>5.556527</td>\n      <td>5.751010</td>\n      <td>5.466743</td>\n      <td>4.874634e+05</td>\n    </tr>\n    <tr>\n      <th>min</th>\n      <td>43.000000</td>\n      <td>51.000000</td>\n      <td>57.000000</td>\n      <td>48.000000</td>\n      <td>52.000000</td>\n      <td>51.000000</td>\n      <td>51.000000</td>\n      <td>51.000000</td>\n      <td>55.000000</td>\n      <td>53.000000</td>\n      <td>...</td>\n      <td>56.000000</td>\n      <td>54.000000</td>\n      <td>51.000000</td>\n      <td>51.000000</td>\n      <td>50.000000</td>\n      <td>54.000000</td>\n      <td>51.000000</td>\n      <td>54.000000</td>\n      <td>55.000000</td>\n      <td>4.890540e+05</td>\n    </tr>\n    <tr>\n      <th>25%</th>\n      <td>73.000000</td>\n      <td>70.000000</td>\n      <td>72.000000</td>\n      <td>72.000000</td>\n      <td>69.000000</td>\n      <td>71.000000</td>\n      <td>71.000000</td>\n      <td>71.000000</td>\n      <td>72.000000</td>\n      <td>72.000000</td>\n      <td>...</td>\n      <td>72.000000</td>\n      <td>71.000000</td>\n      <td>70.000000</td>\n      <td>71.000000</td>\n      <td>71.000000</td>\n      <td>71.000000</td>\n      <td>72.000000</td>\n      <td>72.000000</td>\n      <td>72.000000</td>\n      <td>8.570322e+05</td>\n    </tr>\n    <tr>\n      <th>50%</th>\n      <td>76.000000</td>\n      <td>73.000000</td>\n      <td>75.000000</td>\n      <td>75.000000</td>\n      <td>73.000000</td>\n      <td>74.000000</td>\n      <td>74.000000</td>\n      <td>74.000000</td>\n      <td>75.000000</td>\n      <td>75.000000</td>\n      <td>...</td>\n      <td>75.000000</td>\n      <td>74.000000</td>\n      <td>73.000000</td>\n      <td>74.000000</td>\n      <td>74.000000</td>\n      <td>74.000000</td>\n      <td>75.000000</td>\n      <td>75.000000</td>\n      <td>75.000000</td>\n      <td>1.239478e+06</td>\n    </tr>\n    <tr>\n      <th>75%</th>\n      <td>80.000000</td>\n      <td>76.000000</td>\n      <td>78.000000</td>\n      <td>78.000000</td>\n      <td>76.000000</td>\n      <td>78.000000</td>\n      <td>77.750000</td>\n      <td>78.000000</td>\n      <td>78.000000</td>\n      <td>79.000000</td>\n      <td>...</td>\n      <td>78.000000</td>\n      <td>78.000000</td>\n      <td>76.000000</td>\n      <td>78.000000</td>\n      <td>78.000000</td>\n      <td>78.000000</td>\n      <td>79.000000</td>\n      <td>79.000000</td>\n      <td>79.000000</td>\n      <td>1.712693e+06</td>\n    </tr>\n    <tr>\n      <th>max</th>\n      <td>91.000000</td>\n      <td>88.000000</td>\n      <td>89.000000</td>\n      <td>89.000000</td>\n      <td>90.000000</td>\n      <td>92.000000</td>\n      <td>92.000000</td>\n      <td>90.000000</td>\n      <td>94.000000</td>\n      <td>94.000000</td>\n      <td>...</td>\n      <td>89.000000</td>\n      <td>89.000000</td>\n      <td>87.000000</td>\n      <td>91.000000</td>\n      <td>91.000000</td>\n      <td>91.000000</td>\n      <td>94.000000</td>\n      <td>94.000000</td>\n      <td>93.000000</td>\n      <td>2.060645e+06</td>\n    </tr>\n  </tbody>\n</table>\n<p>8 rows × 23 columns</p>\n</div>"
     },
     "execution_count": 44,
     "metadata": {},
     "output_type": "execute_result"
    }
   ],
   "source": [
    "fifa_data = get_fifa_data(viable_matches, player_attributes, None, data_exists = False)\n",
    "fifa_data.describe()"
   ],
   "metadata": {
    "collapsed": false,
    "ExecuteTime": {
     "end_time": "2024-04-15T08:29:30.780974200Z",
     "start_time": "2024-04-15T08:28:13.247866900Z"
    }
   },
   "id": "dcfb16fdec817ade",
   "execution_count": 44
  },
  {
   "cell_type": "markdown",
   "source": [
    "### Tổng hợp các dữ liệu vào bộ dữ liệu làm đầu vào"
   ],
   "metadata": {
    "collapsed": false
   },
   "id": "f71db528df0d09a6"
  },
  {
   "cell_type": "code",
   "outputs": [
    {
     "data": {
      "text/plain": "   home_team_buildUpPlaySpeed  home_team_buildUpPlayPassing  \\\n0                    0.024174                      0.011332   \n1                    0.024032                      0.026745   \n2                    0.025372                      0.014668   \n3                    0.008943                      0.009316   \n4                    0.016001                      0.014830   \n\n   home_team_chanceCreationPassing  home_team_chanceCreationCrossing  \\\n0                         0.024552                          0.018886   \n1                         0.015892                          0.024419   \n2                         0.015065                          0.019426   \n3                         0.013787                          0.008943   \n4                         0.016001                          0.023026   \n\n   home_team_chanceCreationShooting  home_team_defencePressure  \\\n0                          0.026441                   0.026441   \n1                          0.021706                   0.018218   \n2                          0.020219                   0.014272   \n3                          0.020122                   0.024594   \n4                          0.024197                   0.022636   \n\n   home_team_defenceAggression  home_team_defenceTeamWidth  \\\n0                     0.012843                    0.020775   \n1                     0.021319                    0.020156   \n2                     0.024976                    0.019426   \n3                     0.023476                    0.024594   \n4                     0.019904                    0.021855   \n\n   home_team_avg_shots  home_team_avg_corners  ...  \\\n0             0.004215               0.004258  ...   \n1             0.004249               0.004419  ...   \n2             0.004142               0.004182  ...   \n3             0.004991               0.005013  ...   \n4             0.005636               0.005654  ...   \n\n   away_player_2_overall_rating  away_player_3_overall_rating  \\\n0                      0.026441                      0.029085   \n1                      0.027520                      0.028683   \n2                      0.029733                      0.028148   \n3                      0.027575                      0.026084   \n4                      0.028100                      0.028880   \n\n   away_player_4_overall_rating  away_player_5_overall_rating  \\\n0                      0.027574                      0.027952   \n1                      0.028295                      0.027133   \n2                      0.030130                      0.027355   \n3                      0.025712                      0.026830   \n4                      0.030441                      0.027709   \n\n   away_player_6_overall_rating  away_player_7_overall_rating  \\\n0                      0.026441                      0.028329   \n1                      0.027908                      0.029846   \n2                      0.027751                      0.029337   \n3                      0.027575                      0.027202   \n4                      0.028880                      0.029661   \n\n   away_player_8_overall_rating  away_player_9_overall_rating  \\\n0                      0.026441                      0.027196   \n1                      0.028683                      0.029458   \n2                      0.028148                      0.032112   \n3                      0.026830                      0.027202   \n4                      0.030441                      0.028880   \n\n   away_player_10_overall_rating  away_player_11_overall_rating  \n0                       0.027952                       0.029085  \n1                       0.027908                       0.028683  \n2                       0.025769                       0.028940  \n3                       0.025712                       0.027575  \n4                       0.029270                       0.030051  \n\n[5 rows x 60 columns]",
      "text/html": "<div>\n<style scoped>\n    .dataframe tbody tr th:only-of-type {\n        vertical-align: middle;\n    }\n\n    .dataframe tbody tr th {\n        vertical-align: top;\n    }\n\n    .dataframe thead th {\n        text-align: right;\n    }\n</style>\n<table border=\"1\" class=\"dataframe\">\n  <thead>\n    <tr style=\"text-align: right;\">\n      <th></th>\n      <th>home_team_buildUpPlaySpeed</th>\n      <th>home_team_buildUpPlayPassing</th>\n      <th>home_team_chanceCreationPassing</th>\n      <th>home_team_chanceCreationCrossing</th>\n      <th>home_team_chanceCreationShooting</th>\n      <th>home_team_defencePressure</th>\n      <th>home_team_defenceAggression</th>\n      <th>home_team_defenceTeamWidth</th>\n      <th>home_team_avg_shots</th>\n      <th>home_team_avg_corners</th>\n      <th>...</th>\n      <th>away_player_2_overall_rating</th>\n      <th>away_player_3_overall_rating</th>\n      <th>away_player_4_overall_rating</th>\n      <th>away_player_5_overall_rating</th>\n      <th>away_player_6_overall_rating</th>\n      <th>away_player_7_overall_rating</th>\n      <th>away_player_8_overall_rating</th>\n      <th>away_player_9_overall_rating</th>\n      <th>away_player_10_overall_rating</th>\n      <th>away_player_11_overall_rating</th>\n    </tr>\n  </thead>\n  <tbody>\n    <tr>\n      <th>0</th>\n      <td>0.024174</td>\n      <td>0.011332</td>\n      <td>0.024552</td>\n      <td>0.018886</td>\n      <td>0.026441</td>\n      <td>0.026441</td>\n      <td>0.012843</td>\n      <td>0.020775</td>\n      <td>0.004215</td>\n      <td>0.004258</td>\n      <td>...</td>\n      <td>0.026441</td>\n      <td>0.029085</td>\n      <td>0.027574</td>\n      <td>0.027952</td>\n      <td>0.026441</td>\n      <td>0.028329</td>\n      <td>0.026441</td>\n      <td>0.027196</td>\n      <td>0.027952</td>\n      <td>0.029085</td>\n    </tr>\n    <tr>\n      <th>1</th>\n      <td>0.024032</td>\n      <td>0.026745</td>\n      <td>0.015892</td>\n      <td>0.024419</td>\n      <td>0.021706</td>\n      <td>0.018218</td>\n      <td>0.021319</td>\n      <td>0.020156</td>\n      <td>0.004249</td>\n      <td>0.004419</td>\n      <td>...</td>\n      <td>0.027520</td>\n      <td>0.028683</td>\n      <td>0.028295</td>\n      <td>0.027133</td>\n      <td>0.027908</td>\n      <td>0.029846</td>\n      <td>0.028683</td>\n      <td>0.029458</td>\n      <td>0.027908</td>\n      <td>0.028683</td>\n    </tr>\n    <tr>\n      <th>2</th>\n      <td>0.025372</td>\n      <td>0.014668</td>\n      <td>0.015065</td>\n      <td>0.019426</td>\n      <td>0.020219</td>\n      <td>0.014272</td>\n      <td>0.024976</td>\n      <td>0.019426</td>\n      <td>0.004142</td>\n      <td>0.004182</td>\n      <td>...</td>\n      <td>0.029733</td>\n      <td>0.028148</td>\n      <td>0.030130</td>\n      <td>0.027355</td>\n      <td>0.027751</td>\n      <td>0.029337</td>\n      <td>0.028148</td>\n      <td>0.032112</td>\n      <td>0.025769</td>\n      <td>0.028940</td>\n    </tr>\n    <tr>\n      <th>3</th>\n      <td>0.008943</td>\n      <td>0.009316</td>\n      <td>0.013787</td>\n      <td>0.008943</td>\n      <td>0.020122</td>\n      <td>0.024594</td>\n      <td>0.023476</td>\n      <td>0.024594</td>\n      <td>0.004991</td>\n      <td>0.005013</td>\n      <td>...</td>\n      <td>0.027575</td>\n      <td>0.026084</td>\n      <td>0.025712</td>\n      <td>0.026830</td>\n      <td>0.027575</td>\n      <td>0.027202</td>\n      <td>0.026830</td>\n      <td>0.027202</td>\n      <td>0.025712</td>\n      <td>0.027575</td>\n    </tr>\n    <tr>\n      <th>4</th>\n      <td>0.016001</td>\n      <td>0.014830</td>\n      <td>0.016001</td>\n      <td>0.023026</td>\n      <td>0.024197</td>\n      <td>0.022636</td>\n      <td>0.019904</td>\n      <td>0.021855</td>\n      <td>0.005636</td>\n      <td>0.005654</td>\n      <td>...</td>\n      <td>0.028100</td>\n      <td>0.028880</td>\n      <td>0.030441</td>\n      <td>0.027709</td>\n      <td>0.028880</td>\n      <td>0.029661</td>\n      <td>0.030441</td>\n      <td>0.028880</td>\n      <td>0.029270</td>\n      <td>0.030051</td>\n    </tr>\n  </tbody>\n</table>\n<p>5 rows × 60 columns</p>\n</div>"
     },
     "execution_count": 45,
     "metadata": {},
     "output_type": "execute_result"
    }
   ],
   "source": [
    "viables = get_features(viable_matches, teams_stats, fifa_data, 10, False)\n",
    "inputs = viables.drop('match_api_id', axis=1)\n",
    "outcomes = inputs.loc[:, 'outcome']\n",
    "\n",
    "features = inputs.drop('outcome', axis=1)\n",
    "features.iloc[:,:] = Normalizer(norm='l1').fit_transform(features)\n",
    "features.head()"
   ],
   "metadata": {
    "collapsed": false,
    "ExecuteTime": {
     "end_time": "2024-04-15T08:30:27.034061300Z",
     "start_time": "2024-04-15T08:29:30.801176100Z"
    }
   },
   "id": "d4b0e7bf33c78fe4",
   "execution_count": 45
  },
  {
   "cell_type": "markdown",
   "source": [
    "## Tiến hành phân loại & Đánh giá"
   ],
   "metadata": {
    "collapsed": false
   },
   "id": "a320cfbfb4cac104"
  },
  {
   "cell_type": "markdown",
   "source": [
    "### Một số hàm hỗ trợ"
   ],
   "metadata": {
    "collapsed": false
   },
   "id": "8491c7d229321064"
  },
  {
   "cell_type": "code",
   "outputs": [],
   "source": [
    "def convert_xgb_labels(labels):\n",
    "    xgb_labels = labels.copy()\n",
    "    for i in range(len(xgb_labels)):\n",
    "        if xgb_labels[i] == 'Win':\n",
    "            xgb_labels[i] = 0\n",
    "        elif xgb_labels[i] == 'Draw':\n",
    "            xgb_labels[i] = 1\n",
    "        else:\n",
    "            xgb_labels[i] = 2\n",
    "    return xgb_labels\n",
    "\n",
    "def convert_xgb_y_predict(y_predict):\n",
    "    mapping_dict = {0: 'Win', 1: 'Draw', 2: 'Defeat'}\n",
    "    y_predict = np.array([mapping_dict[value] for value in y_predict], dtype=object)\n",
    "    return y_predict\n",
    "\n",
    "def train_predict(clf, data, outcomes):\n",
    "    print(\"Training a {} using a training set size of {}. . .\".format(clf.__class__.__name__, len(data)))\n",
    "    if clf.__class__.__name__ == 'XGBClassifier':\n",
    "        xgb_outcomes = convert_xgb_labels(outcomes)\n",
    "        y_predict = train_model(clf, data, xgb_outcomes)\n",
    "        predict_metrics(outcomes, convert_xgb_y_predict(y_predict))\n",
    "    else:\n",
    "        y_predict = train_model(clf, data, outcomes)\n",
    "        predict_metrics(outcomes, y_predict)\n",
    "\n",
    "def train_model(clf, data, labels):\n",
    "    kf = KFold(n_splits=5)\n",
    "    predictions = []\n",
    "    for train, test in kf.split(data):\n",
    "        X_train, X_test = data[data.index.isin(train)], data[data.index.isin(test)]\n",
    "        y_train, y_test = labels[data.index.isin(train)], labels[data.index.isin(test)]\n",
    "        clf.fit(X_train, y_train)\n",
    "        predictions.append(clf.predict(X_test))\n",
    "\n",
    "    y_predict = predictions[0]\n",
    "    y_predict = np.append(y_predict, predictions[1], axis=0)\n",
    "    y_predict = np.append(y_predict, predictions[2], axis=0)\n",
    "    y_predict = np.append(y_predict, predictions[3], axis=0)\n",
    "    y_predict = np.append(y_predict, predictions[4], axis=0)\n",
    "\n",
    "    return y_predict\n",
    "\n",
    "def predict_metrics(y_test, y_predict):\n",
    "    ls = ['Win', 'Draw', 'Defeat']\n",
    "    from sklearn import metrics\n",
    "\n",
    "    print(metrics.classification_report(y_test, y_predict, target_names=ls))\n",
    "    print(\"Accuracy: \", metrics.accuracy_score(y_test, y_predict))\n",
    "    print(\"Recall: \", metrics.recall_score(y_test, y_predict, average='macro'))\n",
    "    print(\"Precision: \", metrics.precision_score(y_test, y_predict, average='macro', zero_division=0))\n",
    "    print(\"F1 Score: \", metrics.f1_score(y_test, y_predict, average='macro'))\n",
    "    print(\"-----------------------------------\")"
   ],
   "metadata": {
    "collapsed": false,
    "ExecuteTime": {
     "end_time": "2024-04-15T08:30:27.034061300Z",
     "start_time": "2024-04-15T08:30:27.030680800Z"
    }
   },
   "id": "1a72a9d035bf67b2",
   "execution_count": 46
  },
  {
   "cell_type": "markdown",
   "source": [
    "### Huấn luyện mô hình"
   ],
   "metadata": {
    "collapsed": false
   },
   "id": "1025a493303ecc3d"
  },
  {
   "cell_type": "markdown",
   "source": [
    "#### Mô hình phân loại K-Nearest Neighbors"
   ],
   "metadata": {
    "collapsed": false
   },
   "id": "22ef9affe0ec3c"
  },
  {
   "cell_type": "code",
   "outputs": [
    {
     "name": "stdout",
     "output_type": "stream",
     "text": [
      "Training a KNeighborsClassifier using a training set size of 2582. . .\n",
      "              precision    recall  f1-score   support\n",
      "\n",
      "         Win       0.50      0.38      0.43       726\n",
      "        Draw       0.28      0.02      0.03       647\n",
      "      Defeat       0.53      0.88      0.66      1209\n",
      "\n",
      "    accuracy                           0.52      2582\n",
      "   macro avg       0.44      0.43      0.38      2582\n",
      "weighted avg       0.46      0.52      0.44      2582\n",
      "\n",
      "Accuracy:  0.5216886134779241\n",
      "Recall:  0.4250644105353638\n",
      "Precision:  0.43799508314819485\n",
      "F1 Score:  0.37682746656170013\n",
      "-----------------------------------\n"
     ]
    }
   ],
   "source": [
    "clf = KNeighborsClassifier(n_neighbors=90)\n",
    "train_predict(clf, features, outcomes)"
   ],
   "metadata": {
    "collapsed": false,
    "ExecuteTime": {
     "end_time": "2024-04-15T08:30:27.754285800Z",
     "start_time": "2024-04-15T08:30:27.033949500Z"
    }
   },
   "id": "71719f25b639f13f",
   "execution_count": 47
  },
  {
   "cell_type": "markdown",
   "source": [
    "#### Mô hình phân loại Decision Tree"
   ],
   "metadata": {
    "collapsed": false
   },
   "id": "9022bdff3b25d9f9"
  },
  {
   "cell_type": "code",
   "outputs": [
    {
     "name": "stdout",
     "output_type": "stream",
     "text": [
      "Training a DecisionTreeClassifier using a training set size of 2582. . .\n",
      "              precision    recall  f1-score   support\n",
      "\n",
      "         Win       0.49      0.39      0.43       726\n",
      "        Draw       0.19      0.01      0.02       647\n",
      "      Defeat       0.53      0.87      0.66      1209\n",
      "\n",
      "    accuracy                           0.52      2582\n",
      "   macro avg       0.40      0.42      0.37      2582\n",
      "weighted avg       0.44      0.52      0.44      2582\n",
      "\n",
      "Accuracy:  0.5193648334624322\n",
      "Recall:  0.4233693315718634\n",
      "Precision:  0.40465387662572105\n",
      "F1 Score:  0.37322284261283306\n",
      "-----------------------------------\n"
     ]
    }
   ],
   "source": [
    "clf = DecisionTreeClassifier(random_state=0, criterion='entropy', splitter='random', max_depth=5)\n",
    "train_predict(clf, features, outcomes)"
   ],
   "metadata": {
    "collapsed": false,
    "ExecuteTime": {
     "end_time": "2024-04-15T08:30:27.912727Z",
     "start_time": "2024-04-15T08:30:27.754285800Z"
    }
   },
   "id": "131120f7118d5153",
   "execution_count": 48
  },
  {
   "cell_type": "markdown",
   "source": [
    "#### Mô hình phân loại Random Forest"
   ],
   "metadata": {
    "collapsed": false
   },
   "id": "aba9358fba45030e"
  },
  {
   "cell_type": "code",
   "outputs": [
    {
     "name": "stdout",
     "output_type": "stream",
     "text": [
      "Training a RandomForestClassifier using a training set size of 2582. . .\n",
      "              precision    recall  f1-score   support\n",
      "\n",
      "         Win       0.51      0.45      0.48       726\n",
      "        Draw       0.29      0.07      0.11       647\n",
      "      Defeat       0.56      0.82      0.66      1209\n",
      "\n",
      "    accuracy                           0.53      2582\n",
      "   macro avg       0.45      0.45      0.42      2582\n",
      "weighted avg       0.48      0.53      0.47      2582\n",
      "\n",
      "Accuracy:  0.5286599535243997\n",
      "Recall:  0.44741244252636775\n",
      "Precision:  0.4499482501783116\n",
      "F1 Score:  0.4176014261941034\n",
      "-----------------------------------\n"
     ]
    }
   ],
   "source": [
    "clf = RandomForestClassifier(n_estimators=100, random_state=42)\n",
    "train_predict(clf, features, outcomes)"
   ],
   "metadata": {
    "collapsed": false,
    "ExecuteTime": {
     "end_time": "2024-04-15T08:30:35.304560400Z",
     "start_time": "2024-04-15T08:30:27.905724100Z"
    }
   },
   "id": "52a98c91b44a11e",
   "execution_count": 49
  },
  {
   "cell_type": "markdown",
   "source": [
    "#### Mô hình phân loại Support Vector Machines"
   ],
   "metadata": {
    "collapsed": false
   },
   "id": "642a902478ac46b"
  },
  {
   "cell_type": "code",
   "outputs": [
    {
     "name": "stdout",
     "output_type": "stream",
     "text": [
      "Training a SVC using a training set size of 2582. . .\n",
      "              precision    recall  f1-score   support\n",
      "\n",
      "         Win       0.55      0.42      0.48       726\n",
      "        Draw       0.00      0.00      0.00       647\n",
      "      Defeat       0.54      0.90      0.68      1209\n",
      "\n",
      "    accuracy                           0.54      2582\n",
      "   macro avg       0.36      0.44      0.38      2582\n",
      "weighted avg       0.41      0.54      0.45      2582\n",
      "\n",
      "Accuracy:  0.5414407436096049\n",
      "Recall:  0.44157113658579933\n",
      "Precision:  0.3621626395365268\n",
      "F1 Score:  0.3839486544858734\n",
      "-----------------------------------\n"
     ]
    }
   ],
   "source": [
    "clf = SVC(coef0=5, kernel='poly')\n",
    "train_predict(clf, features, outcomes)"
   ],
   "metadata": {
    "collapsed": false,
    "ExecuteTime": {
     "end_time": "2024-04-15T08:30:37.070834100Z",
     "start_time": "2024-04-15T08:30:35.305508500Z"
    }
   },
   "id": "5925e17528da743e",
   "execution_count": 50
  },
  {
   "cell_type": "markdown",
   "source": [
    "#### Mô hình phân loại Naive Bayes"
   ],
   "metadata": {
    "collapsed": false
   },
   "id": "60a68b6ca1eac88d"
  },
  {
   "cell_type": "code",
   "outputs": [
    {
     "name": "stdout",
     "output_type": "stream",
     "text": [
      "Training a GaussianNB using a training set size of 2582. . .\n",
      "              precision    recall  f1-score   support\n",
      "\n",
      "         Win       0.49      0.51      0.50       726\n",
      "        Draw       0.39      0.05      0.08       647\n",
      "      Defeat       0.57      0.81      0.67      1209\n",
      "\n",
      "    accuracy                           0.54      2582\n",
      "   macro avg       0.48      0.46      0.42      2582\n",
      "weighted avg       0.50      0.54      0.47      2582\n",
      "\n",
      "Accuracy:  0.5367931835786213\n",
      "Recall:  0.4575534424918226\n",
      "Precision:  0.48206792335322435\n",
      "F1 Score:  0.41636671990590424\n",
      "-----------------------------------\n"
     ]
    }
   ],
   "source": [
    "clf = GaussianNB(var_smoothing=1.1)\n",
    "train_predict(clf, features, outcomes)"
   ],
   "metadata": {
    "collapsed": false,
    "ExecuteTime": {
     "end_time": "2024-04-15T08:30:37.178331700Z",
     "start_time": "2024-04-15T08:30:37.071965700Z"
    }
   },
   "id": "9a6700aad59cf3cc",
   "execution_count": 51
  },
  {
   "cell_type": "markdown",
   "source": [
    "#### Mô hình phân loại Gradient Boosting"
   ],
   "metadata": {
    "collapsed": false
   },
   "id": "e0ade934a08ac1ca"
  },
  {
   "cell_type": "code",
   "outputs": [
    {
     "name": "stdout",
     "output_type": "stream",
     "text": [
      "Training a XGBClassifier using a training set size of 2582. . .\n",
      "              precision    recall  f1-score   support\n",
      "\n",
      "         Win       0.52      0.45      0.48       726\n",
      "        Draw       0.28      0.08      0.13       647\n",
      "      Defeat       0.56      0.81      0.66      1209\n",
      "\n",
      "    accuracy                           0.53      2582\n",
      "   macro avg       0.45      0.45      0.42      2582\n",
      "weighted avg       0.48      0.53      0.48      2582\n",
      "\n",
      "Accuracy:  0.5271107668474051\n",
      "Recall:  0.44773129081939883\n",
      "Precision:  0.45227104337011453\n",
      "F1 Score:  0.4231100965626955\n",
      "-----------------------------------\n"
     ]
    }
   ],
   "source": [
    "clf = XGBClassifier(max_depth=3, learning_rate=0.1, n_estimators=100)\n",
    "train_predict(clf, features, outcomes)"
   ],
   "metadata": {
    "collapsed": false,
    "ExecuteTime": {
     "end_time": "2024-04-15T08:30:40.581070700Z",
     "start_time": "2024-04-15T08:30:37.179589900Z"
    }
   },
   "id": "4dd511f05f7258b9",
   "execution_count": 52
  }
 ],
 "metadata": {
  "kernelspec": {
   "display_name": "Python 3",
   "language": "python",
   "name": "python3"
  },
  "language_info": {
   "codemirror_mode": {
    "name": "ipython",
    "version": 2
   },
   "file_extension": ".py",
   "mimetype": "text/x-python",
   "name": "python",
   "nbconvert_exporter": "python",
   "pygments_lexer": "ipython2",
   "version": "2.7.6"
  }
 },
 "nbformat": 4,
 "nbformat_minor": 5
}
